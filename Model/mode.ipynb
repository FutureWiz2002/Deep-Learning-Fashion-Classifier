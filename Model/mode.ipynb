{
 "cells": [
  {
   "cell_type": "code",
   "execution_count": 1,
   "metadata": {},
   "outputs": [
    {
     "name": "stderr",
     "output_type": "stream",
     "text": [
      "c:\\Users\\asus\\AppData\\Local\\Programs\\Python\\Python310\\lib\\site-packages\\tqdm\\auto.py:21: TqdmWarning: IProgress not found. Please update jupyter and ipywidgets. See https://ipywidgets.readthedocs.io/en/stable/user_install.html\n",
      "  from .autonotebook import tqdm as notebook_tqdm\n"
     ]
    }
   ],
   "source": [
    "import tensorflow as tf \n",
    "import tensorflow_datasets as tfds\n",
    "import math \n",
    "import numpy as np \n",
    "import matplotlib.pyplot as plt\n",
    "import logging \n",
    "import cv2 as cv\n",
    "\n",
    "datasets, metadata = tfds.load('fashion_mnist', as_supervised=True, with_info=True) # Loads the data\n",
    "train_dataset, test_dataset = datasets['train'], datasets['test'] # Splits the dataset \n"
   ]
  },
  {
   "cell_type": "code",
   "execution_count": 2,
   "metadata": {},
   "outputs": [
    {
     "name": "stdout",
     "output_type": "stream",
     "text": [
      "['T-shirt/top', 'Trouser', 'Pullover', 'Dress', 'Coat', 'Sandal', 'Shirt', 'Sneaker', 'Bag', 'Ankle boot']\n",
      "FeaturesDict({\n",
      "    'image': Image(shape=(28, 28, 1), dtype=uint8),\n",
      "    'label': ClassLabel(shape=(), dtype=int64, num_classes=10),\n",
      "})\n",
      "Number of training examples: 60000\n",
      "Number of test examples:     10000\n"
     ]
    }
   ],
   "source": [
    "class_name = metadata.features['label'].names # Prints the names of the labels\n",
    "print(class_name)\n",
    "print(metadata.features) # Prints the features\n",
    "\n",
    "\n",
    "num_train_examples = metadata.splits['train'].num_examples\n",
    "num_test_examples = metadata.splits['test'].num_examples\n",
    "print(\"Number of training examples: {}\".format(num_train_examples))\n",
    "print(\"Number of test examples:     {}\".format(num_test_examples))\n",
    "\n",
    "model = tf.keras.Sequential([\n",
    "    tf.keras.layers.Flatten(input_shape=(28, 28, 1)), #flattens the 3d image into one array of numbers\n",
    "    tf.keras.layers.Dense(512, activation=tf.nn.relu), #creates 128 level of neural networks\n",
    "    tf.keras.layers.Dense(512, activation=tf.nn.relu),\n",
    "    tf.keras.layers.Dense(512, activation=tf.nn.relu),\n",
    "    tf.keras.layers.Dense(10, activation=tf.nn.softmax) #softmax produces probability distribution \n",
    "])\n",
    "\n",
    "model.compile(optimizer='adam',\n",
    "              loss=tf.keras.losses.SparseCategoricalCrossentropy(),\n",
    "              metrics=['accuracy']) \n",
    "\n",
    "BATCH_SIZE = 32 #Batch size is the number of iterations the neural network does before it is updated \n",
    "train_dataset = train_dataset.cache().repeat().shuffle(num_train_examples).batch(BATCH_SIZE) #Updates dataset with batch included\n",
    "test_dataset = test_dataset.cache().batch(BATCH_SIZE)"
   ]
  },
  {
   "cell_type": "code",
   "execution_count": 3,
   "metadata": {},
   "outputs": [
    {
     "name": "stdout",
     "output_type": "stream",
     "text": [
      "Epoch 1/10\n",
      "310/313 [============================>.] - ETA: 0s - loss: 4.8347 - accuracy: 0.7087\n",
      "Epoch 1: saving model to assets\n",
      "313/313 [==============================] - 8s 15ms/step - loss: 4.7953 - accuracy: 0.7096\n",
      "Epoch 2/10\n",
      "310/313 [============================>.] - ETA: 0s - loss: 0.7845 - accuracy: 0.7742\n",
      "Epoch 2: saving model to assets\n",
      "313/313 [==============================] - 5s 15ms/step - loss: 0.7836 - accuracy: 0.7742\n",
      "Epoch 3/10\n",
      "313/313 [==============================] - ETA: 0s - loss: 0.6297 - accuracy: 0.7970\n",
      "Epoch 3: saving model to assets\n",
      "313/313 [==============================] - 5s 16ms/step - loss: 0.6297 - accuracy: 0.7970\n",
      "Epoch 4/10\n",
      "310/313 [============================>.] - ETA: 0s - loss: 0.5616 - accuracy: 0.8130\n",
      "Epoch 4: saving model to assets\n",
      "313/313 [==============================] - 5s 15ms/step - loss: 0.5653 - accuracy: 0.8124\n",
      "Epoch 5/10\n",
      "310/313 [============================>.] - ETA: 0s - loss: 0.5323 - accuracy: 0.8188\n",
      "Epoch 5: saving model to assets\n",
      "313/313 [==============================] - 5s 16ms/step - loss: 0.5314 - accuracy: 0.8190\n",
      "Epoch 6/10\n",
      "311/313 [============================>.] - ETA: 0s - loss: 0.5071 - accuracy: 0.8205\n",
      "Epoch 6: saving model to assets\n",
      "313/313 [==============================] - 5s 15ms/step - loss: 0.5075 - accuracy: 0.8206\n",
      "Epoch 7/10\n",
      "313/313 [==============================] - ETA: 0s - loss: 0.4897 - accuracy: 0.8232\n",
      "Epoch 7: saving model to assets\n",
      "313/313 [==============================] - 5s 15ms/step - loss: 0.4897 - accuracy: 0.8232\n",
      "Epoch 8/10\n",
      "311/313 [============================>.] - ETA: 0s - loss: 0.4656 - accuracy: 0.8374\n",
      "Epoch 8: saving model to assets\n",
      "313/313 [==============================] - 5s 15ms/step - loss: 0.4655 - accuracy: 0.8374\n",
      "Epoch 9/10\n",
      "311/313 [============================>.] - ETA: 0s - loss: 0.4554 - accuracy: 0.8382\n",
      "Epoch 9: saving model to assets\n",
      "313/313 [==============================] - 5s 15ms/step - loss: 0.4547 - accuracy: 0.8382\n",
      "Epoch 10/10\n",
      "312/313 [============================>.] - ETA: 0s - loss: 0.4493 - accuracy: 0.8392\n",
      "Epoch 10: saving model to assets\n",
      "313/313 [==============================] - 5s 15ms/step - loss: 0.4484 - accuracy: 0.8396\n",
      "313/313 [==============================] - 2s 5ms/step - loss: 0.4538 - accuracy: 0.8401\n",
      "Accuracy on test dataset: 0.8400999903678894\n",
      "Loss:  0.4538244605064392\n",
      "1/1 [==============================] - 0s 217ms/step\n",
      "4\n"
     ]
    }
   ],
   "source": [
    "cp_callback = tf.keras.callbacks.ModelCheckpoint(filepath=\"assets\",\n",
    "                                                 save_weights_only=True,\n",
    "                                                 verbose=1)\n",
    "\n",
    "model.fit(train_dataset, epochs=10, steps_per_epoch=math.ceil(num_test_examples/32), callbacks=[cp_callback])\n",
    "\n",
    "test_loss, test_accuracy = model.evaluate(test_dataset, steps=math.ceil(num_test_examples/32))\n",
    "print('Accuracy on test dataset:', test_accuracy)\n",
    "print('Loss: ', test_loss)\n",
    "\n",
    "for test_images, test_labels in test_dataset.take(1): #predict one sample from the data\n",
    "  test_images = test_images.numpy()\n",
    "  test_labels = test_labels.numpy()\n",
    "  predictions = model.predict(test_images)\n",
    "\n",
    "predictions.shape\n",
    "print(np.argmax(predictions[0]))"
   ]
  }
 ],
 "metadata": {
  "kernelspec": {
   "display_name": "Python 3",
   "language": "python",
   "name": "python3"
  },
  "language_info": {
   "codemirror_mode": {
    "name": "ipython",
    "version": 3
   },
   "file_extension": ".py",
   "mimetype": "text/x-python",
   "name": "python",
   "nbconvert_exporter": "python",
   "pygments_lexer": "ipython3",
   "version": "3.10.6"
  }
 },
 "nbformat": 4,
 "nbformat_minor": 2
}
