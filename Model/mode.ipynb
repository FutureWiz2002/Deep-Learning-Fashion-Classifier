{
 "cells": [
  {
   "cell_type": "code",
   "execution_count": 11,
   "metadata": {},
   "outputs": [],
   "source": [
    "import tensorflow as tf \n",
    "import tensorflow_datasets as tfds\n",
    "import math \n",
    "import numpy as np \n",
    "import matplotlib.pyplot as plt\n",
    "import logging \n",
    "import cv2 as cv\n",
    "\n",
    "datasets, metadata = tfds.load('fashion_mnist', as_supervised=True, with_info=True) # Loads the data\n",
    "train_dataset, test_dataset = datasets['train'], datasets['test'] # Splits the dataset \n"
   ]
  },
  {
   "cell_type": "code",
   "execution_count": 12,
   "metadata": {},
   "outputs": [
    {
     "name": "stdout",
     "output_type": "stream",
     "text": [
      "['T-shirt/top', 'Trouser', 'Pullover', 'Dress', 'Coat', 'Sandal', 'Shirt', 'Sneaker', 'Bag', 'Ankle boot']\n",
      "FeaturesDict({\n",
      "    'image': Image(shape=(28, 28, 1), dtype=uint8),\n",
      "    'label': ClassLabel(shape=(), dtype=int64, num_classes=10),\n",
      "})\n",
      "Number of training examples: 60000\n",
      "Number of test examples:     10000\n"
     ]
    }
   ],
   "source": [
    "class_name = metadata.features['label'].names # Prints the names of the labels\n",
    "print(class_name)\n",
    "print(metadata.features) # Prints the features\n",
    "\n",
    "\n",
    "num_train_examples = metadata.splits['train'].num_examples\n",
    "num_test_examples = metadata.splits['test'].num_examples\n",
    "print(\"Number of training examples: {}\".format(num_train_examples))\n",
    "print(\"Number of test examples:     {}\".format(num_test_examples))\n",
    "\n",
    "model = tf.keras.Sequential([\n",
    "    tf.keras.layers.Flatten(input_shape=(28, 28, 1)), #flattens the 3d image into one array of numbers\n",
    "    tf.keras.layers.Dense(512, activation=tf.nn.relu), #creates 128 level of neural networks\n",
    "    tf.keras.layers.Dense(512, activation=tf.nn.relu),\n",
    "    tf.keras.layers.Dense(512, activation=tf.nn.relu),\n",
    "    tf.keras.layers.Dense(10, activation=tf.nn.softmax) #softmax produces probability distribution \n",
    "])\n",
    "\n",
    "model.compile(optimizer='adam',\n",
    "              loss=tf.keras.losses.SparseCategoricalCrossentropy(),\n",
    "              metrics=['accuracy']) \n",
    "\n",
    "BATCH_SIZE = 32 #Batch size is the number of iterations the neural network does before it is updated \n",
    "train_dataset = train_dataset.cache().repeat().shuffle(num_train_examples).batch(BATCH_SIZE) #Updates dataset with batch included\n",
    "test_dataset = test_dataset.cache().batch(BATCH_SIZE)"
   ]
  },
  {
   "cell_type": "code",
   "execution_count": 13,
   "metadata": {},
   "outputs": [
    {
     "name": "stdout",
     "output_type": "stream",
     "text": [
      "Epoch 1/10\n",
      "311/313 [============================>.] - ETA: 0s - loss: 4.6921 - accuracy: 0.7127\n",
      "Epoch 1: saving model to training_2\\cp.ckpt\n",
      "313/313 [==============================] - 7s 14ms/step - loss: 4.6708 - accuracy: 0.7128\n",
      "Epoch 2/10\n",
      "310/313 [============================>.] - ETA: 0s - loss: 0.8691 - accuracy: 0.7664\n",
      "Epoch 2: saving model to training_2\\cp.ckpt\n",
      "313/313 [==============================] - 4s 14ms/step - loss: 0.8675 - accuracy: 0.7662\n",
      "Epoch 3/10\n",
      "313/313 [==============================] - ETA: 0s - loss: 0.6689 - accuracy: 0.7903\n",
      "Epoch 3: saving model to training_2\\cp.ckpt\n",
      "313/313 [==============================] - 4s 14ms/step - loss: 0.6689 - accuracy: 0.7903\n",
      "Epoch 4/10\n",
      "312/313 [============================>.] - ETA: 0s - loss: 0.5762 - accuracy: 0.8081\n",
      "Epoch 4: saving model to training_2\\cp.ckpt\n",
      "313/313 [==============================] - 4s 14ms/step - loss: 0.5759 - accuracy: 0.8080\n",
      "Epoch 5/10\n",
      "311/313 [============================>.] - ETA: 0s - loss: 0.5335 - accuracy: 0.8134\n",
      "Epoch 5: saving model to training_2\\cp.ckpt\n",
      "313/313 [==============================] - 4s 14ms/step - loss: 0.5328 - accuracy: 0.8133\n",
      "Epoch 6/10\n",
      "310/313 [============================>.] - ETA: 0s - loss: 0.5215 - accuracy: 0.8191\n",
      "Epoch 6: saving model to training_2\\cp.ckpt\n",
      "313/313 [==============================] - 4s 14ms/step - loss: 0.5202 - accuracy: 0.8196\n",
      "Epoch 7/10\n",
      "311/313 [============================>.] - ETA: 0s - loss: 0.4869 - accuracy: 0.8247\n",
      "Epoch 7: saving model to training_2\\cp.ckpt\n",
      "313/313 [==============================] - 4s 14ms/step - loss: 0.4871 - accuracy: 0.8245\n",
      "Epoch 8/10\n",
      "313/313 [==============================] - ETA: 0s - loss: 0.5038 - accuracy: 0.8200\n",
      "Epoch 8: saving model to training_2\\cp.ckpt\n",
      "313/313 [==============================] - 4s 14ms/step - loss: 0.5038 - accuracy: 0.8200\n",
      "Epoch 9/10\n",
      "311/313 [============================>.] - ETA: 0s - loss: 0.4306 - accuracy: 0.8438\n",
      "Epoch 9: saving model to training_2\\cp.ckpt\n",
      "313/313 [==============================] - 4s 14ms/step - loss: 0.4299 - accuracy: 0.8438\n",
      "Epoch 10/10\n",
      "311/313 [============================>.] - ETA: 0s - loss: 0.4417 - accuracy: 0.8328\n",
      "Epoch 10: saving model to training_2\\cp.ckpt\n",
      "313/313 [==============================] - 4s 14ms/step - loss: 0.4413 - accuracy: 0.8331\n",
      "313/313 [==============================] - 2s 5ms/step - loss: 0.5160 - accuracy: 0.8236\n",
      "Accuracy on test dataset: 0.8235999941825867\n",
      "Loss:  0.5160253643989563\n",
      "1/1 [==============================] - 0s 176ms/step\n",
      "4\n"
     ]
    }
   ],
   "source": [
    "import os\n",
    "checkpoint_path = \"training_2/cp.ckpt\"\n",
    "checkpoint_dir = os.path.dirname(checkpoint_path)\n",
    "cp_callback = tf.keras.callbacks.ModelCheckpoint(filepath=checkpoint_path,\n",
    "                                                 save_weights_only=True,\n",
    "                                                 verbose=1)\n",
    "\n",
    "model.fit(train_dataset, epochs=10, steps_per_epoch=math.ceil(num_test_examples/32), callbacks=[cp_callback])\n",
    "\n",
    "model.save_weights(\"model_weights\")\n",
    "test_loss, test_accuracy = model.evaluate(test_dataset, steps=math.ceil(num_test_examples/32))\n",
    "print('Accuracy on test dataset:', test_accuracy)\n",
    "print('Loss: ', test_loss)\n",
    "\n",
    "for test_images, test_labels in test_dataset.take(1): #predict one sample from the data\n",
    "  test_images = test_images.numpy()\n",
    "  test_labels = test_labels.numpy()\n",
    "  predictions = model.predict(test_images)\n",
    "\n",
    "predictions.shape\n",
    "print(np.argmax(predictions[0]))"
   ]
  },
  {
   "cell_type": "code",
   "execution_count": 14,
   "metadata": {},
   "outputs": [
    {
     "name": "stdout",
     "output_type": "stream",
     "text": [
      "<class 'numpy.ndarray'> [4 4 9 7 5 1 0 5 7 4 0 8 2 3 9 0 7 7 2 2 0 4 4 4 2 7 7 4 2 4 7 5]\n",
      "1/1 [==============================] - 0s 42ms/step\n",
      "4\n"
     ]
    }
   ],
   "source": [
    "for test_images, test_labels in test_dataset.take(1): #predict one sample from the data\n",
    "  test_images = test_images.numpy()\n",
    "  test_labels = test_labels.numpy()\n",
    "  print(type(test_images), (test_labels))\n",
    "  predictions = model.predict(test_images)\n",
    "\n",
    "predictions.shape\n",
    "print(np.argmax(predictions[0]))\n"
   ]
  },
  {
   "cell_type": "code",
   "execution_count": null,
   "metadata": {},
   "outputs": [],
   "source": []
  }
 ],
 "metadata": {
  "kernelspec": {
   "display_name": "Python 3",
   "language": "python",
   "name": "python3"
  },
  "language_info": {
   "codemirror_mode": {
    "name": "ipython",
    "version": 3
   },
   "file_extension": ".py",
   "mimetype": "text/x-python",
   "name": "python",
   "nbconvert_exporter": "python",
   "pygments_lexer": "ipython3",
   "version": "3.10.6"
  }
 },
 "nbformat": 4,
 "nbformat_minor": 2
}
