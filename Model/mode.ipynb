{
 "cells": [
  {
   "cell_type": "code",
   "execution_count": 2,
   "metadata": {},
   "outputs": [],
   "source": [
    "import tensorflow as tf \n",
    "import tensorflow_datasets as tfds\n",
    "import math \n",
    "import numpy as np \n",
    "import matplotlib.pyplot as plt\n",
    "import logging \n",
    "import cv2 as cv\n",
    "\n",
    "datasets, metadata = tfds.load('fashion_mnist', as_supervised=True, with_info=True) # Loads the data\n",
    "train_dataset, test_dataset = datasets['train'], datasets['test'] # Splits the dataset \n"
   ]
  },
  {
   "cell_type": "code",
   "execution_count": 3,
   "metadata": {},
   "outputs": [
    {
     "name": "stdout",
     "output_type": "stream",
     "text": [
      "['T-shirt/top', 'Trouser', 'Pullover', 'Dress', 'Coat', 'Sandal', 'Shirt', 'Sneaker', 'Bag', 'Ankle boot']\n",
      "FeaturesDict({\n",
      "    'image': Image(shape=(28, 28, 1), dtype=uint8),\n",
      "    'label': ClassLabel(shape=(), dtype=int64, num_classes=10),\n",
      "})\n",
      "Number of training examples: 60000\n",
      "Number of test examples:     10000\n"
     ]
    }
   ],
   "source": [
    "class_name = metadata.features['label'].names # Prints the names of the labels\n",
    "print(class_name)\n",
    "print(metadata.features) # Prints the features\n",
    "\n",
    "\n",
    "num_train_examples = metadata.splits['train'].num_examples\n",
    "num_test_examples = metadata.splits['test'].num_examples\n",
    "print(\"Number of training examples: {}\".format(num_train_examples))\n",
    "print(\"Number of test examples:     {}\".format(num_test_examples))\n",
    "\n",
    "model = tf.keras.Sequential([\n",
    "    tf.keras.layers.Flatten(input_shape=(28, 28, 1)), #flattens the 3d image into one array of numbers\n",
    "    tf.keras.layers.Dense(512, activation=tf.nn.relu), #creates 128 level of neural networks\n",
    "    tf.keras.layers.Dense(512, activation=tf.nn.relu),\n",
    "    tf.keras.layers.Dense(512, activation=tf.nn.relu),\n",
    "    tf.keras.layers.Dense(10, activation=tf.nn.softmax) #softmax produces probability distribution \n",
    "])\n",
    "\n",
    "model.compile(optimizer='adam',\n",
    "              loss=tf.keras.losses.SparseCategoricalCrossentropy(),\n",
    "              metrics=['accuracy']) \n",
    "\n",
    "BATCH_SIZE = 32 #Batch size is the number of iterations the neural network does before it is updated \n",
    "train_dataset = train_dataset.cache().repeat().shuffle(num_train_examples).batch(BATCH_SIZE) #Updates dataset with batch included\n",
    "test_dataset = test_dataset.cache().batch(BATCH_SIZE)"
   ]
  },
  {
   "cell_type": "code",
   "execution_count": 4,
   "metadata": {},
   "outputs": [
    {
     "name": "stdout",
     "output_type": "stream",
     "text": [
      "Epoch 1/10\n",
      "313/313 [==============================] - ETA: 0s - loss: 5.6931 - accuracy: 0.7018\n",
      "Epoch 1: saving model to training_2\\cp.ckpt\n",
      "313/313 [==============================] - 10s 22ms/step - loss: 5.6931 - accuracy: 0.7018\n",
      "Epoch 2/10\n",
      "313/313 [==============================] - ETA: 0s - loss: 0.8051 - accuracy: 0.7692\n",
      "Epoch 2: saving model to training_2\\cp.ckpt\n",
      "313/313 [==============================] - 10s 31ms/step - loss: 0.8051 - accuracy: 0.7692\n",
      "Epoch 3/10\n",
      "313/313 [==============================] - ETA: 0s - loss: 0.6767 - accuracy: 0.7844\n",
      "Epoch 3: saving model to training_2\\cp.ckpt\n",
      "313/313 [==============================] - 10s 31ms/step - loss: 0.6767 - accuracy: 0.7844\n",
      "Epoch 4/10\n",
      "312/313 [============================>.] - ETA: 0s - loss: 0.5891 - accuracy: 0.8002\n",
      "Epoch 4: saving model to training_2\\cp.ckpt\n",
      "313/313 [==============================] - 10s 32ms/step - loss: 0.5894 - accuracy: 0.8003\n",
      "Epoch 5/10\n",
      "312/313 [============================>.] - ETA: 0s - loss: 0.5342 - accuracy: 0.8169\n",
      "Epoch 5: saving model to training_2\\cp.ckpt\n",
      "313/313 [==============================] - 10s 31ms/step - loss: 0.5338 - accuracy: 0.8169\n",
      "Epoch 6/10\n",
      "313/313 [==============================] - ETA: 0s - loss: 0.5000 - accuracy: 0.8230\n",
      "Epoch 6: saving model to training_2\\cp.ckpt\n",
      "313/313 [==============================] - 10s 31ms/step - loss: 0.5000 - accuracy: 0.8230\n",
      "Epoch 7/10\n",
      "313/313 [==============================] - ETA: 0s - loss: 0.5037 - accuracy: 0.8260\n",
      "Epoch 7: saving model to training_2\\cp.ckpt\n",
      "313/313 [==============================] - 10s 30ms/step - loss: 0.5037 - accuracy: 0.8260\n",
      "Epoch 8/10\n",
      "310/313 [============================>.] - ETA: 0s - loss: 0.4734 - accuracy: 0.8291\n",
      "Epoch 8: saving model to training_2\\cp.ckpt\n",
      "313/313 [==============================] - 8s 26ms/step - loss: 0.4740 - accuracy: 0.8291\n",
      "Epoch 9/10\n",
      "310/313 [============================>.] - ETA: 0s - loss: 0.4470 - accuracy: 0.8409\n",
      "Epoch 9: saving model to training_2\\cp.ckpt\n",
      "313/313 [==============================] - 5s 15ms/step - loss: 0.4452 - accuracy: 0.8417\n",
      "Epoch 10/10\n",
      "310/313 [============================>.] - ETA: 0s - loss: 0.4706 - accuracy: 0.8333\n",
      "Epoch 10: saving model to training_2\\cp.ckpt\n",
      "313/313 [==============================] - 4s 14ms/step - loss: 0.4717 - accuracy: 0.8326\n",
      "313/313 [==============================] - 2s 5ms/step - loss: 0.4859 - accuracy: 0.8361\n",
      "Accuracy on test dataset: 0.8360999822616577\n",
      "Loss:  0.4859187602996826\n",
      "1/1 [==============================] - 0s 201ms/step\n",
      "4\n"
     ]
    }
   ],
   "source": [
    "import os\n",
    "checkpoint_path = \"training_2/cp.ckpt\"\n",
    "checkpoint_dir = os.path.dirname(checkpoint_path)\n",
    "cp_callback = tf.keras.callbacks.ModelCheckpoint(filepath=checkpoint_path,\n",
    "                                                 save_weights_only=True,\n",
    "                                                 verbose=1)\n",
    "\n",
    "model.fit(train_dataset, epochs=10, steps_per_epoch=math.ceil(num_test_examples/32), callbacks=[cp_callback])\n",
    "\n",
    "model.save_weights(\"model_weights\")\n",
    "test_loss, test_accuracy = model.evaluate(test_dataset, steps=math.ceil(num_test_examples/32))\n",
    "print('Accuracy on test dataset:', test_accuracy)\n",
    "print('Loss: ', test_loss)\n",
    "\n",
    "for test_images, test_labels in test_dataset.take(1): #predict one sample from the data\n",
    "  test_images = test_images.numpy()\n",
    "  test_labels = test_labels.numpy()\n",
    "  predictions = model.predict(test_images)\n",
    "\n",
    "predictions.shape\n",
    "print(np.argmax(predictions[0]))"
   ]
  },
  {
   "cell_type": "code",
   "execution_count": 5,
   "metadata": {},
   "outputs": [],
   "source": [
    "model.save_weights(\"WEIGHTS\")\n"
   ]
  }
 ],
 "metadata": {
  "kernelspec": {
   "display_name": "Python 3",
   "language": "python",
   "name": "python3"
  },
  "language_info": {
   "codemirror_mode": {
    "name": "ipython",
    "version": 3
   },
   "file_extension": ".py",
   "mimetype": "text/x-python",
   "name": "python",
   "nbconvert_exporter": "python",
   "pygments_lexer": "ipython3",
   "version": "3.10.6"
  }
 },
 "nbformat": 4,
 "nbformat_minor": 2
}
